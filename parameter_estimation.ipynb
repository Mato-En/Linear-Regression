{
 "cells": [
  {
   "cell_type": "code",
   "execution_count": 1,
   "id": "6f9482d2-4cfc-4ed5-8d92-5f5fca04f854",
   "metadata": {},
   "outputs": [],
   "source": [
    "import pandas as pd\n",
    "import numpy as np"
   ]
  },
  {
   "cell_type": "code",
   "execution_count": 2,
   "id": "dbcc3054-3d1d-4d08-8c74-6e098e900372",
   "metadata": {},
   "outputs": [],
   "source": [
    "dataset = pd.io.parsers.read_csv(\"insurance.csv\")"
   ]
  },
  {
   "cell_type": "code",
   "execution_count": 3,
   "id": "dd493d3d-b84b-4211-b14a-144751173041",
   "metadata": {},
   "outputs": [
    {
     "data": {
      "text/html": [
       "<div>\n",
       "<style scoped>\n",
       "    .dataframe tbody tr th:only-of-type {\n",
       "        vertical-align: middle;\n",
       "    }\n",
       "\n",
       "    .dataframe tbody tr th {\n",
       "        vertical-align: top;\n",
       "    }\n",
       "\n",
       "    .dataframe thead th {\n",
       "        text-align: right;\n",
       "    }\n",
       "</style>\n",
       "<table border=\"1\" class=\"dataframe\">\n",
       "  <thead>\n",
       "    <tr style=\"text-align: right;\">\n",
       "      <th></th>\n",
       "      <th>age</th>\n",
       "      <th>sex</th>\n",
       "      <th>bmi</th>\n",
       "      <th>children</th>\n",
       "      <th>smoker</th>\n",
       "      <th>region</th>\n",
       "      <th>charges</th>\n",
       "    </tr>\n",
       "  </thead>\n",
       "  <tbody>\n",
       "    <tr>\n",
       "      <th>0</th>\n",
       "      <td>19</td>\n",
       "      <td>female</td>\n",
       "      <td>27.900</td>\n",
       "      <td>0</td>\n",
       "      <td>yes</td>\n",
       "      <td>southwest</td>\n",
       "      <td>16884.92400</td>\n",
       "    </tr>\n",
       "    <tr>\n",
       "      <th>1</th>\n",
       "      <td>18</td>\n",
       "      <td>male</td>\n",
       "      <td>33.770</td>\n",
       "      <td>1</td>\n",
       "      <td>no</td>\n",
       "      <td>southeast</td>\n",
       "      <td>1725.55230</td>\n",
       "    </tr>\n",
       "    <tr>\n",
       "      <th>2</th>\n",
       "      <td>28</td>\n",
       "      <td>male</td>\n",
       "      <td>33.000</td>\n",
       "      <td>3</td>\n",
       "      <td>no</td>\n",
       "      <td>southeast</td>\n",
       "      <td>4449.46200</td>\n",
       "    </tr>\n",
       "    <tr>\n",
       "      <th>3</th>\n",
       "      <td>33</td>\n",
       "      <td>male</td>\n",
       "      <td>22.705</td>\n",
       "      <td>0</td>\n",
       "      <td>no</td>\n",
       "      <td>northwest</td>\n",
       "      <td>21984.47061</td>\n",
       "    </tr>\n",
       "    <tr>\n",
       "      <th>4</th>\n",
       "      <td>32</td>\n",
       "      <td>male</td>\n",
       "      <td>28.880</td>\n",
       "      <td>0</td>\n",
       "      <td>no</td>\n",
       "      <td>northwest</td>\n",
       "      <td>3866.85520</td>\n",
       "    </tr>\n",
       "    <tr>\n",
       "      <th>...</th>\n",
       "      <td>...</td>\n",
       "      <td>...</td>\n",
       "      <td>...</td>\n",
       "      <td>...</td>\n",
       "      <td>...</td>\n",
       "      <td>...</td>\n",
       "      <td>...</td>\n",
       "    </tr>\n",
       "    <tr>\n",
       "      <th>1333</th>\n",
       "      <td>50</td>\n",
       "      <td>male</td>\n",
       "      <td>30.970</td>\n",
       "      <td>3</td>\n",
       "      <td>no</td>\n",
       "      <td>northwest</td>\n",
       "      <td>10600.54830</td>\n",
       "    </tr>\n",
       "    <tr>\n",
       "      <th>1334</th>\n",
       "      <td>18</td>\n",
       "      <td>female</td>\n",
       "      <td>31.920</td>\n",
       "      <td>0</td>\n",
       "      <td>no</td>\n",
       "      <td>northeast</td>\n",
       "      <td>2205.98080</td>\n",
       "    </tr>\n",
       "    <tr>\n",
       "      <th>1335</th>\n",
       "      <td>18</td>\n",
       "      <td>female</td>\n",
       "      <td>36.850</td>\n",
       "      <td>0</td>\n",
       "      <td>no</td>\n",
       "      <td>southeast</td>\n",
       "      <td>1629.83350</td>\n",
       "    </tr>\n",
       "    <tr>\n",
       "      <th>1336</th>\n",
       "      <td>21</td>\n",
       "      <td>female</td>\n",
       "      <td>25.800</td>\n",
       "      <td>0</td>\n",
       "      <td>no</td>\n",
       "      <td>southwest</td>\n",
       "      <td>2007.94500</td>\n",
       "    </tr>\n",
       "    <tr>\n",
       "      <th>1337</th>\n",
       "      <td>61</td>\n",
       "      <td>female</td>\n",
       "      <td>29.070</td>\n",
       "      <td>0</td>\n",
       "      <td>yes</td>\n",
       "      <td>northwest</td>\n",
       "      <td>29141.36030</td>\n",
       "    </tr>\n",
       "  </tbody>\n",
       "</table>\n",
       "<p>1338 rows × 7 columns</p>\n",
       "</div>"
      ],
      "text/plain": [
       "      age     sex     bmi  children smoker     region      charges\n",
       "0      19  female  27.900         0    yes  southwest  16884.92400\n",
       "1      18    male  33.770         1     no  southeast   1725.55230\n",
       "2      28    male  33.000         3     no  southeast   4449.46200\n",
       "3      33    male  22.705         0     no  northwest  21984.47061\n",
       "4      32    male  28.880         0     no  northwest   3866.85520\n",
       "...   ...     ...     ...       ...    ...        ...          ...\n",
       "1333   50    male  30.970         3     no  northwest  10600.54830\n",
       "1334   18  female  31.920         0     no  northeast   2205.98080\n",
       "1335   18  female  36.850         0     no  southeast   1629.83350\n",
       "1336   21  female  25.800         0     no  southwest   2007.94500\n",
       "1337   61  female  29.070         0    yes  northwest  29141.36030\n",
       "\n",
       "[1338 rows x 7 columns]"
      ]
     },
     "execution_count": 3,
     "metadata": {},
     "output_type": "execute_result"
    }
   ],
   "source": [
    "dataset"
   ]
  },
  {
   "cell_type": "code",
   "execution_count": 4,
   "id": "dda73657-1b03-4342-b8c9-560f61f72d9b",
   "metadata": {},
   "outputs": [
    {
     "data": {
      "text/plain": [
       "age         0\n",
       "sex         0\n",
       "bmi         0\n",
       "children    0\n",
       "smoker      0\n",
       "region      0\n",
       "charges     0\n",
       "dtype: int64"
      ]
     },
     "execution_count": 4,
     "metadata": {},
     "output_type": "execute_result"
    }
   ],
   "source": [
    "dataset.isnull().sum()"
   ]
  },
  {
   "cell_type": "code",
   "execution_count": 5,
   "id": "e5dd24dd-a4d0-4d35-9e1b-42710b70c21e",
   "metadata": {},
   "outputs": [
    {
     "data": {
      "text/plain": [
       "False    1337\n",
       "True        1\n",
       "Name: count, dtype: int64"
      ]
     },
     "execution_count": 5,
     "metadata": {},
     "output_type": "execute_result"
    }
   ],
   "source": [
    "pd.DataFrame.duplicated(dataset).value_counts()"
   ]
  },
  {
   "cell_type": "code",
   "execution_count": 6,
   "id": "65925f20-6b8d-4b84-a165-ed87974da4e6",
   "metadata": {},
   "outputs": [
    {
     "data": {
      "text/html": [
       "<div>\n",
       "<style scoped>\n",
       "    .dataframe tbody tr th:only-of-type {\n",
       "        vertical-align: middle;\n",
       "    }\n",
       "\n",
       "    .dataframe tbody tr th {\n",
       "        vertical-align: top;\n",
       "    }\n",
       "\n",
       "    .dataframe thead th {\n",
       "        text-align: right;\n",
       "    }\n",
       "</style>\n",
       "<table border=\"1\" class=\"dataframe\">\n",
       "  <thead>\n",
       "    <tr style=\"text-align: right;\">\n",
       "      <th></th>\n",
       "      <th>age</th>\n",
       "      <th>bmi</th>\n",
       "      <th>children</th>\n",
       "      <th>charges</th>\n",
       "    </tr>\n",
       "  </thead>\n",
       "  <tbody>\n",
       "    <tr>\n",
       "      <th>count</th>\n",
       "      <td>1338.000000</td>\n",
       "      <td>1338.000000</td>\n",
       "      <td>1338.000000</td>\n",
       "      <td>1338.000000</td>\n",
       "    </tr>\n",
       "    <tr>\n",
       "      <th>mean</th>\n",
       "      <td>39.207025</td>\n",
       "      <td>30.663397</td>\n",
       "      <td>1.094918</td>\n",
       "      <td>13270.422265</td>\n",
       "    </tr>\n",
       "    <tr>\n",
       "      <th>std</th>\n",
       "      <td>14.049960</td>\n",
       "      <td>6.098187</td>\n",
       "      <td>1.205493</td>\n",
       "      <td>12110.011237</td>\n",
       "    </tr>\n",
       "    <tr>\n",
       "      <th>min</th>\n",
       "      <td>18.000000</td>\n",
       "      <td>15.960000</td>\n",
       "      <td>0.000000</td>\n",
       "      <td>1121.873900</td>\n",
       "    </tr>\n",
       "    <tr>\n",
       "      <th>25%</th>\n",
       "      <td>27.000000</td>\n",
       "      <td>26.296250</td>\n",
       "      <td>0.000000</td>\n",
       "      <td>4740.287150</td>\n",
       "    </tr>\n",
       "    <tr>\n",
       "      <th>50%</th>\n",
       "      <td>39.000000</td>\n",
       "      <td>30.400000</td>\n",
       "      <td>1.000000</td>\n",
       "      <td>9382.033000</td>\n",
       "    </tr>\n",
       "    <tr>\n",
       "      <th>75%</th>\n",
       "      <td>51.000000</td>\n",
       "      <td>34.693750</td>\n",
       "      <td>2.000000</td>\n",
       "      <td>16639.912515</td>\n",
       "    </tr>\n",
       "    <tr>\n",
       "      <th>max</th>\n",
       "      <td>64.000000</td>\n",
       "      <td>53.130000</td>\n",
       "      <td>5.000000</td>\n",
       "      <td>63770.428010</td>\n",
       "    </tr>\n",
       "  </tbody>\n",
       "</table>\n",
       "</div>"
      ],
      "text/plain": [
       "               age          bmi     children       charges\n",
       "count  1338.000000  1338.000000  1338.000000   1338.000000\n",
       "mean     39.207025    30.663397     1.094918  13270.422265\n",
       "std      14.049960     6.098187     1.205493  12110.011237\n",
       "min      18.000000    15.960000     0.000000   1121.873900\n",
       "25%      27.000000    26.296250     0.000000   4740.287150\n",
       "50%      39.000000    30.400000     1.000000   9382.033000\n",
       "75%      51.000000    34.693750     2.000000  16639.912515\n",
       "max      64.000000    53.130000     5.000000  63770.428010"
      ]
     },
     "execution_count": 6,
     "metadata": {},
     "output_type": "execute_result"
    }
   ],
   "source": [
    "dataset.describe()"
   ]
  },
  {
   "cell_type": "markdown",
   "id": "69b45ba7-88a7-4133-a3e8-1153ceca4bc4",
   "metadata": {},
   "source": [
    "Data requires no further preprocessing except using one-hot encoding of the categorical variables"
   ]
  },
  {
   "cell_type": "code",
   "execution_count": 32,
   "id": "b4612262-91a7-45c5-9978-d3bbd6898946",
   "metadata": {},
   "outputs": [],
   "source": [
    "df=pd.get_dummies(dataset, dtype=int)"
   ]
  },
  {
   "cell_type": "code",
   "execution_count": 33,
   "id": "4f68392a-45b0-4f29-8655-4a3f4a9b64d7",
   "metadata": {},
   "outputs": [],
   "source": [
    "#df=df.sample(frac=1)"
   ]
  },
  {
   "cell_type": "code",
   "execution_count": 34,
   "id": "a6613dfd-8940-449c-8dd4-427561cdba46",
   "metadata": {},
   "outputs": [],
   "source": [
    "stop=round(len(df.index)*.80)\n",
    "Xtrain=df.iloc[:stop]\n",
    "Xtest=df.iloc[stop+1:]\n",
    "Ytrain=Xtrain[\"charges\"]\n",
    "Ytest=Xtest[\"charges\"]\n",
    "Xtrain=Xtrain.drop(\"charges\", axis=1)\n",
    "Xtest=Xtest.drop(\"charges\", axis=1)"
   ]
  },
  {
   "cell_type": "markdown",
   "id": "0831ea0f-28fe-4ba1-8a20-05097c0dd5b6",
   "metadata": {},
   "source": [
    "Now some linear algebra is required, so the dataframes are converted to numpy arrays"
   ]
  },
  {
   "cell_type": "code",
   "execution_count": 35,
   "id": "c17e70d0-2985-405d-90b5-8d6fdf72513c",
   "metadata": {},
   "outputs": [],
   "source": [
    "x=Xtrain.to_numpy()\n",
    "y=Ytrain.to_numpy()\n",
    "xtest=Xtest.to_numpy()\n",
    "ytest=Ytest.to_numpy()"
   ]
  },
  {
   "cell_type": "markdown",
   "id": "72f0d883-2d68-450c-841d-50369ff03317",
   "metadata": {},
   "source": [
    "Using a linear function $y=\\boldsymbol x^\\top\\boldsymbol\\theta$, the likelihood is given by\n",
    "$$\n",
    "p(\\mathcal Y|\\mathcal X,\\boldsymbol\\theta)=p(y_1,...,y_N|\\boldsymbol x_1,...,\\boldsymbol x_N,\\boldsymbol\\theta)=\\prod_{n=1}^Np(y_n|\\boldsymbol x_n,\\boldsymbol\\theta)\n",
    "$$\n",
    "I assumed that the measurement noise is Gaussian (resulting in a likelihood that is Guassian thus allowing me to compute the gradient explicitly). Minimizing the negative log-likelihood results in\n",
    "$$\n",
    "\\boldsymbol\\theta_{ML}=(\\boldsymbol X^\\top\\boldsymbol X)^{-1}\\boldsymbol X^\\top\\boldsymbol y\n",
    "$$\n",
    "but I added $\\kappa I_D$ for numerical stability (see below)"
   ]
  },
  {
   "cell_type": "code",
   "execution_count": 39,
   "id": "7b307ed5-3863-4e22-a3d1-ffa2a53d136b",
   "metadata": {},
   "outputs": [],
   "source": [
    "def parameter(X,Y):\n",
    "    N,D=X.shape\n",
    "    kappa=1e-8\n",
    "    I_D=np.identity(D)\n",
    "    X_inv=np.linalg.inv(X.T@X+kappa*I_D) \n",
    "    return X_inv@X.T@Y "
   ]
  },
  {
   "cell_type": "markdown",
   "id": "9f478025-3334-4f4a-a8a1-c25f5f9131e0",
   "metadata": {},
   "source": [
    "Finally, to obtain some measure of performance, I calculate the root mean square loss\n",
    "$$\n",
    "\\sqrt{\\frac1{N}\\sum_{n=1}^N(y_n-\\boldsymbol x_n^\\top\\boldsymbol\\theta)^2}\n",
    "$$\n",
    "and provide some visualization that show how off the predictions are"
   ]
  },
  {
   "cell_type": "code",
   "execution_count": 40,
   "id": "2cfe3c5b-1a35-4d11-8e2c-4ecdb4da5c6f",
   "metadata": {},
   "outputs": [],
   "source": [
    "def RMSE(y,pred):\n",
    "    N=y.shape[0]\n",
    "    s=sum(np.power(y-pred,2))\n",
    "    return np.sqrt(s/N)"
   ]
  },
  {
   "cell_type": "code",
   "execution_count": 41,
   "id": "36089379-4099-4598-85b0-12db041489f9",
   "metadata": {},
   "outputs": [
    {
     "data": {
      "text/plain": [
       "np.float64(6094.250695615778)"
      ]
     },
     "execution_count": 41,
     "metadata": {},
     "output_type": "execute_result"
    }
   ],
   "source": [
    "theta=parameter(x,y)\n",
    "pred=xtest@theta\n",
    "RMSE(ytest,pred)"
   ]
  },
  {
   "cell_type": "code",
   "execution_count": 31,
   "id": "9df61f8a-d424-450c-8392-38e1753341c6",
   "metadata": {},
   "outputs": [
    {
     "data": {
      "image/png": "[encoded data removed]",
      "text/plain": [
       "<Figure size 640x480 with 1 Axes>"
      ]
     },
     "metadata": {},
     "output_type": "display_data"
    }
   ],
   "source": [
    "import matplotlib.pyplot as plt\n",
    "plt.figure()\n",
    "plt.scatter(ytest, pred, color=\"blue\", label=\"Predictions\")\n",
    "plt.xlabel('Ground Truth')\n",
    "plt.ylabel('Predictions')\n",
    "plt.title('Predictions vs Ground Truth')\n",
    "plt.axline((0, 0), slope=1, color='green', linestyle='--', label='Ideal Prediction')  \n",
    "plt.legend()\n",
    "plt.grid()\n",
    "plt.show()"
   ]
  },
  {
   "cell_type": "markdown",
   "id": "be2e4cfb-9ffd-408f-aff6-fec16e616080",
   "metadata": {},
   "source": [
    "As seen from this graph, most datapoints involve lower charges, so the model tends towards lower values in general, resulting in more accurate predictions. Consequently, it fails at more extreme charges (its highest prediction is below 40k)"
   ]
  },
  {
   "cell_type": "code",
   "execution_count": null,
   "id": "71d9e8aa-5edf-4bfb-9bf4-0d84440049d1",
   "metadata": {},
   "outputs": [],
   "source": []
  }
 ],
 "metadata": {
  "kernelspec": {
   "display_name": "Python 3 (ipykernel)",
   "language": "python",
   "name": "python3"
  },
  "language_info": {
   "codemirror_mode": {
    "name": "ipython",
    "version": 3
   },
   "file_extension": ".py",
   "mimetype": "text/x-python",
   "name": "python",
   "nbconvert_exporter": "python",
   "pygments_lexer": "ipython3",
   "version": "3.13.5"
  }
 },
 "nbformat": 4,
 "nbformat_minor": 5
}
